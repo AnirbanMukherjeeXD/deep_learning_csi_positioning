{
  "cells": [
    {
      "cell_type": "code",
      "execution_count": null,
      "metadata": {
        "id": "amsLkAUUKSxW"
      },
      "outputs": [],
      "source": [
        "import torch\n",
        "import torch.nn as nn"
      ]
    },
    {
      "cell_type": "code",
      "source": [
        "!gdown 1kTEftRBxz_dpMCcl8-JSOoGvD1yQBdvO\n",
        "!gdown 1tADa7tvzVq5Lj7tDsYaHZY_i2ff8I-7E"
      ],
      "metadata": {
        "id": "K4Le5wcDPwU0"
      },
      "execution_count": null,
      "outputs": []
    },
    {
      "cell_type": "code",
      "source": [
        "device = torch.device('cuda' if torch.cuda.is_available() else 'cpu')\n",
        "\n",
        "print('Chosen device:', device)"
      ],
      "metadata": {
        "id": "Qlm7BNacSDDw"
      },
      "execution_count": null,
      "outputs": []
    },
    {
      "cell_type": "code",
      "execution_count": null,
      "metadata": {
        "id": "3trGYV7rKSxY"
      },
      "outputs": [],
      "source": [
        "X_train = torch.load('COST_X_train.pt')\n",
        "X_train.shape"
      ]
    },
    {
      "cell_type": "code",
      "execution_count": null,
      "metadata": {
        "id": "dNMwyYTWKSxY"
      },
      "outputs": [],
      "source": [
        "Y_train = torch.load('COST_y_train.pt')\n",
        "Y_train.shape"
      ]
    },
    {
      "cell_type": "markdown",
      "metadata": {
        "id": "KcKM0jF8KSxZ"
      },
      "source": [
        "## CNN Regressor"
      ]
    },
    {
      "cell_type": "code",
      "source": [
        "model.state_dict()['linear_1.weight'].dtype"
      ],
      "metadata": {
        "id": "d9C_X0EFypfz"
      },
      "execution_count": null,
      "outputs": []
    },
    {
      "cell_type": "code",
      "execution_count": null,
      "metadata": {
        "id": "lv_SPhDdKSxa"
      },
      "outputs": [],
      "source": [
        "X = X_train[:7]\n",
        "Y = Y_train[:7]\n",
        "\n",
        "# X = X.permute(0, 3, 1, 2)\n",
        "\n",
        "print(X.shape, Y.shape)"
      ]
    },
    {
      "cell_type": "code",
      "execution_count": null,
      "metadata": {
        "id": "SWdLewuYKSxd"
      },
      "outputs": [],
      "source": [
        "### Utils ###\n",
        "def k_mean(tensor):\n",
        "    return torch.mean(tensor, dim=2)\n",
        "\n",
        "def k_sqrt(tensor):\n",
        "    r = torch.sqrt(tensor)\n",
        "    return r\n",
        "\n",
        "\n",
        "def k_atan(tensor):\n",
        "    t = torch.atan2(tensor[0], tensor[1])\n",
        "    return t\n",
        "\n",
        "\n",
        "def ifft(x):\n",
        "    y = torch.complex(x[:, :, :, 0], x[:, :, :, 1])\n",
        "    ifft = torch.fft.ifft(y)\n",
        "    return torch.stack([torch.real(ifft), torch.imag(ifft)], dim=3)\n",
        "\n",
        "\n",
        "\n",
        "class CNN_Regressor(torch.nn.Module):\n",
        "    def __init__(self):\n",
        "        super().__init__()\n",
        "        self.dropout_rate = 0.25\n",
        "        self.num_complex_channels = 6\n",
        "        # self.nn_input = Input((64, 100, 2))\n",
        "\n",
        "        self.linear_1 = nn.Linear(8* 6* 64* 100, 64)\n",
        "        self.linear_2 = nn.Linear(64, 32)\n",
        "        self.linear_3 = nn.Linear(32, 2)\n",
        "\n",
        "        self.flatten = nn.Flatten()\n",
        "\n",
        "\n",
        "\n",
        "        # self.Conv3d(in_channels = self.num_complex_channels, out_channels = 8, kernel_size = (1, 23, self.num_complex_channels), strides=(1, 5, 1))\n",
        "        self.LeakyReLU = nn.LeakyReLU(negative_slope=0.3)\n",
        "        self.Dropout = nn.Dropout(self.dropout_rate)\n",
        "\n",
        "        self.layD1 = nn.Conv3d(in_channels = 1, out_channels = 8, kernel_size = (1, 23, self.num_complex_channels), stride=1, padding = 'same')\n",
        "        self.layD2 = nn.Conv3d(in_channels = 1, out_channels = 8, kernel_size = (1, 23, self.num_complex_channels), stride=1, padding = 'same')\n",
        "        self.layD2_a = nn.Conv3d(in_channels = 16, out_channels = 8, kernel_size = (1, 23, self.num_complex_channels), stride=1, padding = 'same')\n",
        "        self.layD2_b = nn.Conv3d(in_channels = 8, out_channels = 8, kernel_size = (1, 23, self.num_complex_channels), stride=1, padding = 'same')\n",
        "        self.layD3 = nn.Conv3d(in_channels = 8, out_channels = 8, kernel_size = (1, 23, self.num_complex_channels), stride=1, padding = 'same')\n",
        "        self.layD3_a = nn.Conv3d(in_channels = 16, out_channels = 8, kernel_size = (1, 23, self.num_complex_channels), stride=1, padding = 'same')\n",
        "        self.layD3_b = nn.Conv3d(in_channels = 8, out_channels = 8, kernel_size = (1, 23, self.num_complex_channels), stride=1, padding = 'same')\n",
        "        self.layD4 = nn.Conv3d(in_channels = 8, out_channels = 8, kernel_size = (1, 23, self.num_complex_channels), stride=1, padding = 'same')\n",
        "        self.layD4_a = nn.Conv3d(in_channels = 16, out_channels = 8, kernel_size = (1, 23, self.num_complex_channels), stride=1, padding = 'same')\n",
        "        self.layV1 = nn.Conv3d(in_channels = 8, out_channels = 8, kernel_size = (1, 23, self.num_complex_channels), stride=1, padding = 'same')\n",
        "        self.layV2 = nn.Conv3d(in_channels = 16, out_channels = 8, kernel_size = (1, 23, self.num_complex_channels), stride=1, padding = 'same')\n",
        "        self.layV3 = nn.Conv3d(in_channels = 24, out_channels = 8, kernel_size = (1, 23, self.num_complex_channels), stride=1, padding = 'same')\n",
        "        self.layV4 = nn.Conv3d(in_channels = 32, out_channels = 8, kernel_size = (1, 23, self.num_complex_channels), stride=1, padding = 'same')\n",
        "        self.layV5 = nn.Conv3d(in_channels = 40, out_channels = 8, kernel_size = (1, 23, self.num_complex_channels), stride=1, padding = 'same')\n",
        "\n",
        "\n",
        "    def Conv3D(self, x, in_channels, out_channels, kernel_size, stride):\n",
        "        input_size = torch.tensor(x.shape[1:4])\n",
        "        output_size = input_size\n",
        "        print(\"input_size, output_size, kernel_size, strides\", input_size, output_size, kernel_size, stride)\n",
        "        # pad_size = (2*(output_size-1) - input_size - torch.tensor(kernel_size))*(1 / torch.tensor(stride))\n",
        "        # pad_size = (stride*(output_size - 1.) - input_size  + kernel_size)/2.\n",
        "        pad_size = (torch.tensor([1., 1, 1]) * (output_size - 1.) - input_size + torch.tensor(kernel_size)) / 2.\n",
        "\n",
        "        # print(\"PAD\", pad_size)\n",
        "        padding = tuple(pad_size.int())\n",
        "        padding = (0, 11, 2, 0, 11, 3)\n",
        "        # conv3d = nn.Conv3d(in_channels = in_channels, out_channels = out_channels, kernel_size = kernel_size, stride=stride, padding = (0, 21,  3))\n",
        "        conv3d = nn.Conv3d(in_channels = in_channels, out_channels = out_channels, kernel_size = kernel_size, stride=1, padding = 'same')\n",
        "        return(conv3d)\n",
        "\n",
        "    ## Returns the value after forward pass\n",
        "    def forward(self, x):\n",
        "      # complex to polar\n",
        "      real = x[:, :, :, 0]\n",
        "      imag = x[:, :, :, 1]\n",
        "\n",
        "      real_squared = real**2\n",
        "      imag_squared = imag**2\n",
        "\n",
        "      real_imag_squared_sum = real_squared + imag_squared\n",
        "      print(real_imag_squared_sum.shape)\n",
        "\n",
        "      # amplitude\n",
        "      r = k_sqrt(real_imag_squared_sum)\n",
        "      r = r.view(-1, 64, 100, 1)\n",
        "      # print(\"r\", r.shape)\n",
        "\n",
        "      # phase\n",
        "      t = k_atan([imag, real])\n",
        "      t = t.view(-1, 64, 100, 1)\n",
        "      # print(\"t\", t.shape)\n",
        "\n",
        "      polar_input = torch.cat((r, t), dim = 3)\n",
        "\n",
        "\n",
        "      time_input = ifft(x)\n",
        "\n",
        "      # print(\"x, polar_input, time_input  \", x.shape, polar_input.shape, time_input.shape)\n",
        "\n",
        "      total_input = torch.cat((x, polar_input, time_input), dim = 3)\n",
        "      # print(\"total\", total_input.shape)\n",
        "\n",
        "      # reduce dimension of time axis\n",
        "      lay_input = total_input.reshape((-1, 64, 100, self.num_complex_channels, 1))\n",
        "      # lay_input = total_input.reshape((-1, 64, 100, self.num_complex_channels))\n",
        "      lay_input = lay_input.permute(0, 4, 3, 1, 2)\n",
        "      # print(\"lay_input\", lay_input.shape )\n",
        "\n",
        "\n",
        "\n",
        "\n",
        "      # layD2 = Conv3D(8, (1, 23, 1), strides=(1, 5, 1), padding=\"same\", kernel_regularizer=regularizers.l2(0.01))(layD2)\n",
        "\n",
        "      D1 = self.layD1(lay_input)\n",
        "      D1 = self.LeakyReLU(D1)\n",
        "      D1 = self.Dropout(D1)\n",
        "\n",
        "      D2 = self.layD2(lay_input)\n",
        "      D2 = self.LeakyReLU(D2)\n",
        "      # print(\"SHAPES\")\n",
        "\n",
        "      D2 = torch.concatenate((D1, D2), dim = 1)\n",
        "\n",
        "      D2 = self.layD2_a(D2)\n",
        "      D2 = self.LeakyReLU(D1)\n",
        "\n",
        "\n",
        "\n",
        "      D2 = self.layD2_b(D2)\n",
        "      # print(\"D2\", D2.shape)\n",
        "\n",
        "\n",
        "\n",
        "      D3 = self.layD3(D2)\n",
        "      D3 = self.LeakyReLU(D3)\n",
        "      D3 = self.Dropout(D3)\n",
        "      # print(\"D3\", D3.shape)\n",
        "\n",
        "      D3 = torch.concatenate((D2, D3), dim = 1)\n",
        "\n",
        "\n",
        "      D3 = self.layD3_a(D3)\n",
        "      D3 = self.LeakyReLU(D3)\n",
        "      D3 = self.Dropout(D3)\n",
        "\n",
        "\n",
        "      D3 = self.layD3_b(D3)\n",
        "\n",
        "\n",
        "\n",
        "      D4 = self.layD4(D3)\n",
        "      D4 = self.LeakyReLU(D4)\n",
        "      D4 = self.Dropout(D4)\n",
        "\n",
        "\n",
        "      D4 = torch.concatenate((D4, D3), dim = 1)\n",
        "\n",
        "\n",
        "      D4 = self.layD4_a(D4)\n",
        "\n",
        "\n",
        "      V1 = self.layV1(D4)\n",
        "      V1 = self.LeakyReLU(V1)\n",
        "      V1 = self.Dropout(V1)\n",
        "\n",
        "      V1 = torch.concatenate((V1, D4), dim = 1)\n",
        "\n",
        "      V2 = self.layV2(V1)\n",
        "      V2 = self.LeakyReLU(V2)\n",
        "      V2 = self.Dropout(V2)\n",
        "\n",
        "\n",
        "      V2 = torch.concatenate((V1, V2), dim = 1)\n",
        "\n",
        "\n",
        "      V3 = self.layV3(V2)\n",
        "      V3 = self.LeakyReLU(V3)\n",
        "      V3 = self.Dropout(V3)\n",
        "\n",
        "      V3 = torch.concatenate((V3, V2), dim = 1)\n",
        "\n",
        "\n",
        "      V4 = self.layV4(V3)\n",
        "      V4 = self.LeakyReLU(V4)\n",
        "      V4 = self.Dropout(V4)\n",
        "\n",
        "      V4 = torch.concatenate((V4, V3), dim = 1)\n",
        "\n",
        "\n",
        "      V5 = self.layV5(V4)\n",
        "      V5 = self.LeakyReLU(V5)\n",
        "      V5 = self.Dropout(V5)\n",
        "\n",
        "      # print(V5.shape)\n",
        "\n",
        "      # y = V5.reshape(-1, 8* 6* 64* 100)\n",
        "      y = self.flatten(V5)\n",
        "\n",
        "      y = self.linear_1(y)\n",
        "      y = torch.relu(y)\n",
        "\n",
        "      y = self.linear_2(y)\n",
        "      y = torch.relu(y)\n",
        "\n",
        "      y = self.linear_3(y)\n",
        "\n",
        "      return(y)\n",
        "\n",
        "model = CNN_Regressor()\n",
        "\n",
        "\n",
        "print(model)\n"
      ]
    },
    {
      "cell_type": "code",
      "source": [
        "X.shape"
      ],
      "metadata": {
        "id": "cG9UB6o5wzoD"
      },
      "execution_count": null,
      "outputs": []
    },
    {
      "cell_type": "code",
      "source": [
        "7*2*64*100"
      ],
      "metadata": {
        "id": "GukBeh9Fw2RB"
      },
      "execution_count": null,
      "outputs": []
    },
    {
      "cell_type": "code",
      "source": [
        "Y_pred = model(X)\n",
        "\n",
        "print(Y_pred.shape)"
      ],
      "metadata": {
        "id": "nVq_5a6dxWs8"
      },
      "execution_count": null,
      "outputs": []
    },
    {
      "cell_type": "code",
      "execution_count": null,
      "metadata": {
        "id": "41bufH8HKSxe"
      },
      "outputs": [],
      "source": [
        "x = torch.ones((15, 64, 100, 2))\n",
        "print(x.shape)\n",
        "\n",
        "y = model(x)\n",
        "\n",
        "y.shape"
      ]
    },
    {
      "cell_type": "code",
      "source": [
        "model.to(device)"
      ],
      "metadata": {
        "id": "dDMvArxGSPS1"
      },
      "execution_count": null,
      "outputs": []
    },
    {
      "cell_type": "code",
      "execution_count": null,
      "metadata": {
        "id": "fGuxB7PvKSxe"
      },
      "outputs": [],
      "source": [
        "from torch.utils.data import DataLoader, TensorDataset\n",
        "\n",
        "# Assuming X and Y are your input and output tensors respectively\n",
        "\n",
        "# Create a TensorDataset\n",
        "dataset = TensorDataset(X, Y)\n",
        "\n",
        "# Define batch size\n",
        "batch_size = 30\n",
        "\n",
        "# Create DataLoader objects for handling batches\n",
        "train_loader = DataLoader(dataset, batch_size=batch_size, shuffle=True)\n"
      ]
    },
    {
      "cell_type": "code",
      "execution_count": null,
      "metadata": {
        "id": "4gL85gYEKSxf"
      },
      "outputs": [],
      "source": [
        "history = []"
      ]
    },
    {
      "cell_type": "code",
      "execution_count": null,
      "metadata": {
        "id": "ccgIfM5dKSxg"
      },
      "outputs": [],
      "source": [
        "# Define your loss function\n",
        "criterion = nn.MSELoss()\n",
        "\n",
        "# Define your optimizer\n",
        "optimizer = torch.optim.Adam(model.parameters(), lr=0.01)\n",
        "\n",
        "# Training loop\n",
        "num_epochs = 50\n",
        "for epoch in range(num_epochs):\n",
        "    total_loss = 0\n",
        "    total_loss_ = 0\n",
        "    total_loss_fft = 0\n",
        "    for batch_x, batch_y in train_loader:\n",
        "        optimizer.zero_grad()\n",
        "        batch_x = batch_x.to(device)\n",
        "        output = model(batch_x)\n",
        "\n",
        "\n",
        "        loss = criterion(output, batch_y.to(torch.float32))\n",
        "        loss.backward()\n",
        "        optimizer.step()\n",
        "        total_loss += loss.item()\n",
        "\n",
        "    history.append(total_loss)\n",
        "    print(f\"Epoch {epoch+1}, Loss: {total_loss / len(train_loader)} \")\n"
      ]
    },
    {
      "cell_type": "code",
      "execution_count": null,
      "metadata": {
        "id": "5lJDNOEtKSxg"
      },
      "outputs": [],
      "source": [
        "import matplotlib.pyplot as plt"
      ]
    },
    {
      "cell_type": "code",
      "execution_count": null,
      "metadata": {
        "id": "2EmbJiCTKSxg"
      },
      "outputs": [],
      "source": [
        "plt.plot(history[0:])"
      ]
    },
    {
      "cell_type": "code",
      "source": [],
      "metadata": {
        "id": "EL1hee87LR3H"
      },
      "execution_count": null,
      "outputs": []
    },
    {
      "cell_type": "code",
      "execution_count": null,
      "metadata": {
        "id": "agPG9GYdKSxg"
      },
      "outputs": [],
      "source": [
        "model_basic = model\n",
        "model_basic"
      ]
    },
    {
      "cell_type": "code",
      "execution_count": null,
      "metadata": {
        "id": "j1W233jcKSxh"
      },
      "outputs": [],
      "source": [
        "model_main = model"
      ]
    },
    {
      "cell_type": "code",
      "execution_count": null,
      "metadata": {
        "id": "EfBV-5UpKSxh"
      },
      "outputs": [],
      "source": [
        "try:\n",
        "    X_enc_main = X_enc\n",
        "except:\n",
        "    2"
      ]
    },
    {
      "cell_type": "code",
      "execution_count": null,
      "metadata": {
        "id": "IHeyD_Q7KSxh"
      },
      "outputs": [],
      "source": [
        "samplegap = 10"
      ]
    },
    {
      "cell_type": "code",
      "source": [
        "X_train = X_train.to('cpu')"
      ],
      "metadata": {
        "id": "uzhkaVHiTC60"
      },
      "execution_count": null,
      "outputs": []
    },
    {
      "cell_type": "code",
      "execution_count": null,
      "metadata": {
        "id": "euhtUn67KSxi"
      },
      "outputs": [],
      "source": [
        "with torch.no_grad():\n",
        "    X_enc = model_main.to('cpu').encoder(X_train[::1].permute(0, 3, 1, 2))\n",
        "print(X_enc.shape)\n",
        "X_enc = torch.flatten(X_enc, start_dim =1)\n",
        "print(X_enc.shape)"
      ]
    },
    {
      "cell_type": "code",
      "source": [
        "X_enc.device"
      ],
      "metadata": {
        "id": "8A9dJo37TT8d"
      },
      "execution_count": null,
      "outputs": []
    },
    {
      "cell_type": "code",
      "execution_count": null,
      "metadata": {
        "id": "VQOZvhn_KSxi"
      },
      "outputs": [],
      "source": [
        "plt.scatter(Y_train[:, 0], Y_train[:, 1])\n",
        "plt.scatter(Y_train[::samplegap, 0], Y_train[::samplegap, 1])\n",
        "\n",
        "plt.show()\n",
        "\n",
        "print(X_enc[::samplegap].shape)"
      ]
    },
    {
      "cell_type": "code",
      "source": [
        "torch.save(model_main, 'model_main_fft.pth')"
      ],
      "metadata": {
        "id": "Vrgry7YDQTug"
      },
      "execution_count": null,
      "outputs": []
    },
    {
      "cell_type": "code",
      "source": [
        "torch.save(model_main.state_dict, 'model_main_fft_state_dict.pt')"
      ],
      "metadata": {
        "id": "LYQWLbK0ZLz3"
      },
      "execution_count": null,
      "outputs": []
    },
    {
      "cell_type": "code",
      "source": [
        "model_main"
      ],
      "metadata": {
        "id": "tnTkiSJJZBYo"
      },
      "execution_count": null,
      "outputs": []
    },
    {
      "cell_type": "code",
      "execution_count": null,
      "metadata": {
        "id": "iOZpfNMrKSxk"
      },
      "outputs": [],
      "source": [
        "from sklearn.ensemble import RandomForestRegressor\n",
        "model = RandomForestRegressor(n_estimators=10, max_depth=20)\n",
        "model.fit(X_enc[::samplegap], Y_train[::samplegap])"
      ]
    },
    {
      "cell_type": "code",
      "execution_count": null,
      "metadata": {
        "id": "Fq4qN6UBKSxk"
      },
      "outputs": [],
      "source": [
        "Y_pred = model.predict(X_enc)"
      ]
    },
    {
      "cell_type": "code",
      "source": [],
      "metadata": {
        "id": "aXeYWXn8X-fC"
      },
      "execution_count": null,
      "outputs": []
    },
    {
      "cell_type": "code",
      "source": [
        "plt.figure(figsize = (15, 15))\n",
        "plt.scatter(Y_train[:, 0], Y_train[:, 1], label = \"GT\")\n",
        "\n",
        "\n",
        "plt.scatter(Y_pred[:, 0], Y_pred[:, 1], label = \"Pred\")\n",
        "\n",
        "plt.scatter(Y_train[::samplegap, 0], Y_train[::samplegap, 1], label = \"Labeled data\", marker = 'x', color = 'yellow')\n",
        "\n",
        "plt.legend()\n",
        "plt.show()"
      ],
      "metadata": {
        "id": "KyS-0xwTaH3j"
      },
      "execution_count": null,
      "outputs": []
    },
    {
      "cell_type": "code",
      "source": [
        "plt.figure(figsize = (15, 15))\n",
        "# plt.scatter(Y_train[:, 0], Y_train[:, 1], label = \"GT\")\n",
        "\n",
        "\n",
        "# plt.scatter(Y_pred[:, 0], Y_pred[:, 1], label = \"Pred\")\n",
        "plt.scatter(Y_train[:, 0], Y_train[:, 1], label = \"Loss\", c = np.sum(Y_pred - Y_train.numpy(), axis = 1)**2)\n",
        "# plt.scatter(Y_train[::samplegap, 0], Y_train[::samplegap, 1], label = \"Labeled data\", marker = 'x', color = 'yellow')\n",
        "plt.colorbar()\n",
        "\n",
        "plt.legend()\n",
        "plt.show()"
      ],
      "metadata": {
        "id": "G9u2oOZBQvud"
      },
      "execution_count": null,
      "outputs": []
    },
    {
      "cell_type": "code",
      "source": [
        "model = RandomForestRegressor(n_estimators=10, max_depth=20)\n",
        "model.fit(X_enc, Y_train)"
      ],
      "metadata": {
        "id": "NitcRYVhOFqj"
      },
      "execution_count": null,
      "outputs": []
    },
    {
      "cell_type": "code",
      "source": [
        "Y_pred = model.predict(X_enc)"
      ],
      "metadata": {
        "id": "oTvAHL_qSIx_"
      },
      "execution_count": null,
      "outputs": []
    },
    {
      "cell_type": "code",
      "source": [
        "plt.figure(figsize = (15, 15))\n",
        "plt.scatter(Y_train[:, 0], Y_train[:, 1], label = \"GT\")\n",
        "\n",
        "\n",
        "plt.scatter(Y_pred[:, 0], Y_pred[:, 1], label = \"Pred\")\n",
        "\n",
        "plt.legend()\n",
        "plt.show()"
      ],
      "metadata": {
        "id": "4KVC-DuCTn9I"
      },
      "execution_count": null,
      "outputs": []
    }
  ],
  "metadata": {
    "kernelspec": {
      "display_name": "Python 3",
      "name": "python3"
    },
    "language_info": {
      "codemirror_mode": {
        "name": "ipython",
        "version": 3
      },
      "file_extension": ".py",
      "mimetype": "text/x-python",
      "name": "python",
      "nbconvert_exporter": "python",
      "pygments_lexer": "ipython3",
      "version": "3.7.0"
    },
    "colab": {
      "provenance": []
    }
  },
  "nbformat": 4,
  "nbformat_minor": 0
}